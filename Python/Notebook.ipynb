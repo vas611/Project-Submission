{
 "cells": [
  {
   "cell_type": "code",
   "execution_count": 1,
   "id": "88d15db2-7d77-45d6-93af-21017ebb7712",
   "metadata": {},
   "outputs": [],
   "source": [
    "import pandas as pd"
   ]
  },
  {
   "cell_type": "code",
   "execution_count": 4,
   "id": "0c18b230-f8ab-47a1-85e1-07ecf8f2e530",
   "metadata": {},
   "outputs": [
    {
     "name": "stdout",
     "output_type": "stream",
     "text": [
      "<class 'pandas.core.frame.DataFrame'>\n",
      "RangeIndex: 45315 entries, 0 to 45314\n",
      "Data columns (total 9 columns):\n",
      " #   Column      Non-Null Count  Dtype \n",
      "---  ------      --------------  ----- \n",
      " 0   date        45315 non-null  object\n",
      " 1   home_team   45315 non-null  object\n",
      " 2   away_team   45315 non-null  object\n",
      " 3   home_score  45315 non-null  int64 \n",
      " 4   away_score  45315 non-null  int64 \n",
      " 5   tournament  45315 non-null  object\n",
      " 6   city        45315 non-null  object\n",
      " 7   country     45315 non-null  object\n",
      " 8   neutral     45315 non-null  bool  \n",
      "dtypes: bool(1), int64(2), object(6)\n",
      "memory usage: 2.8+ MB\n"
     ]
    }
   ],
   "source": [
    "df = pd.read_csv('D:/New folder/ds-admissions-challenge-master/results.csv')\n",
    "df.info()"
   ]
  },
  {
   "cell_type": "markdown",
   "id": "38b5d37d-181b-4761-a2e3-52b8815eea87",
   "metadata": {},
   "source": [
    "# Q1: What is the average number of goals for the home team?"
   ]
  },
  {
   "cell_type": "code",
   "execution_count": 7,
   "id": "0a7ce434-4cdd-4717-a7f4-f6deb3146e6a",
   "metadata": {},
   "outputs": [
    {
     "name": "stdout",
     "output_type": "stream",
     "text": [
      "The average number of goals for the home team is: 1.7393136930376256\n"
     ]
    }
   ],
   "source": [
    "average_home_goals = df['home_score'].mean()\n",
    "print(\"The average number of goals for the home team is:\", average_home_goals)\n"
   ]
  },
  {
   "cell_type": "markdown",
   "id": "1cf37fec-8fed-4118-b761-dbca6ce7a60e",
   "metadata": {},
   "source": [
    "# Q2: What is the average number of goals for the away team?"
   ]
  },
  {
   "cell_type": "code",
   "execution_count": 8,
   "id": "fe2eedaa-b286-497e-9a62-4e9df2eea24e",
   "metadata": {},
   "outputs": [
    {
     "name": "stdout",
     "output_type": "stream",
     "text": [
      "The average number of goals for the away team is: 1.1782412004854905\n"
     ]
    }
   ],
   "source": [
    "average_away_goals = df['away_score'].mean()\n",
    "print(\"The average number of goals for the away team is:\", average_away_goals)\n"
   ]
  },
  {
   "cell_type": "markdown",
   "id": "eeb1c1e9-1528-4e00-9674-583c56c7b1a9",
   "metadata": {},
   "source": [
    "# Q3: What is the country with the highest overall home score?"
   ]
  },
  {
   "cell_type": "code",
   "execution_count": 9,
   "id": "51ef48c8-e3e1-457f-8d56-4a4ecd5b3c0d",
   "metadata": {},
   "outputs": [
    {
     "name": "stdout",
     "output_type": "stream",
     "text": [
      "The country with the highest overall home score is: United States\n"
     ]
    }
   ],
   "source": [
    "home_scores_by_country = df.groupby('country')['home_score'].sum()\n",
    "country_with_highest_home_score = home_scores_by_country.idxmax()\n",
    "print(\"The country with the highest overall home score is:\", country_with_highest_home_score)\n"
   ]
  },
  {
   "cell_type": "markdown",
   "id": "30ccb6d4-753b-4bc1-9c2f-423332aaa2fe",
   "metadata": {},
   "source": [
    "# Q4: What are the top 3 type of tournaments?"
   ]
  },
  {
   "cell_type": "code",
   "execution_count": 11,
   "id": "1e3d1eca-4cd0-4e92-8421-ed72f357e6ea",
   "metadata": {},
   "outputs": [
    {
     "name": "stdout",
     "output_type": "stream",
     "text": [
      "The top 3 types of tournaments are:\n",
      "tournament\n",
      "Friendly                        17773\n",
      "FIFA World Cup qualification     8016\n",
      "UEFA Euro qualification          2815\n",
      "Name: count, dtype: int64\n"
     ]
    }
   ],
   "source": [
    "tournament_counts = df['tournament'].value_counts()\n",
    "top_3_tournaments = tournament_counts.nlargest(3)\n",
    "print(\"The top 3 types of tournaments are:\")\n",
    "print(top_3_tournaments)"
   ]
  },
  {
   "cell_type": "markdown",
   "id": "7fd6ae0f-2571-47e9-94e3-f76df2e68447",
   "metadata": {},
   "source": [
    "# Q5 Which country has the highest overall FIFA World Cup goals?\n",
    "* The first part is 5.1.\n",
    "* the second is 5.2.\n",
    "* the third is 5.3."
   ]
  },
  {
   "cell_type": "code",
   "execution_count": 19,
   "id": "daf10397-fc67-41c1-b584-0a40af2064fd",
   "metadata": {},
   "outputs": [
    {
     "name": "stdout",
     "output_type": "stream",
     "text": [
      "The country with the highest overall FIFA World Cup goals is: Brazil\n"
     ]
    },
    {
     "name": "stderr",
     "output_type": "stream",
     "text": [
      "C:\\Users\\user\\AppData\\Local\\Temp\\ipykernel_3488\\331236496.py:2: SettingWithCopyWarning: \n",
      "A value is trying to be set on a copy of a slice from a DataFrame.\n",
      "Try using .loc[row_indexer,col_indexer] = value instead\n",
      "\n",
      "See the caveats in the documentation: https://pandas.pydata.org/pandas-docs/stable/user_guide/indexing.html#returning-a-view-versus-a-copy\n",
      "  fifa_df['total_score'] = fifa_df['home_score'] + fifa_df['away_score']\n"
     ]
    }
   ],
   "source": [
    "fifa_df = df[df['tournament'] == 'FIFA World Cup']\n",
    "fifa_df['total_score'] = fifa_df['home_score'] + fifa_df['away_score']\n",
    "total_scores_by_country = fifa_df.groupby('country')['total_score'].sum()\n",
    "country_with_highest_fifa_goals = total_scores_by_country.idxmax()\n",
    "print(\"The country with the highest overall FIFA World Cup goals is:\", country_with_highest_fifa_goals)"
   ]
  },
  {
   "cell_type": "code",
   "execution_count": null,
   "id": "07ff2f30-48a0-47d3-ab4f-365b4be0e59f",
   "metadata": {},
   "outputs": [],
   "source": []
  },
  {
   "cell_type": "code",
   "execution_count": null,
   "id": "3f7a1d84-37ec-4cff-a9eb-b58b0b2dca52",
   "metadata": {},
   "outputs": [],
   "source": []
  }
 ],
 "metadata": {
  "kernelspec": {
   "display_name": "Python 3 (ipykernel)",
   "language": "python",
   "name": "python3"
  },
  "language_info": {
   "codemirror_mode": {
    "name": "ipython",
    "version": 3
   },
   "file_extension": ".py",
   "mimetype": "text/x-python",
   "name": "python",
   "nbconvert_exporter": "python",
   "pygments_lexer": "ipython3",
   "version": "3.11.7"
  }
 },
 "nbformat": 4,
 "nbformat_minor": 5
}
